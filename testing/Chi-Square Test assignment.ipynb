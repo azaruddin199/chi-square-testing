{
 "cells": [
  {
   "cell_type": "markdown",
   "id": "0e04667f",
   "metadata": {},
   "source": [
    "\n",
    "# Hypothesis Testing"
   ]
  },
  {
   "cell_type": "markdown",
   "id": "80dceabd",
   "metadata": {},
   "source": [
    "# chi-square test"
   ]
  },
  {
   "cell_type": "markdown",
   "id": "4cb77011",
   "metadata": {},
   "source": [
    "1. State the Hypotheses:"
   ]
  },
  {
   "cell_type": "markdown",
   "id": "8a45d0b8",
   "metadata": {},
   "source": [
    "Null Hypothesis (H0): There is no association between the type of smart home device purchased and the customer satisfaction level. In other words, the type of device and satisfaction level are independent.\n",
    "\n",
    "Alternative Hypothesis (H1): There is an association between the type of smart home device purchased and the customer satisfaction level. In other words, the type of device and satisfaction level are not independent.\n",
    "\n"
   ]
  },
  {
   "cell_type": "markdown",
   "id": "3438827e",
   "metadata": {},
   "source": [
    "2-Compute the Chi-Square Statistic:"
   ]
  },
  {
   "cell_type": "code",
   "execution_count": 8,
   "id": "3276b7ee",
   "metadata": {},
   "outputs": [
    {
     "name": "stdout",
     "output_type": "stream",
     "text": [
      "Chi-Square Statistic: 5.638227513227513\n"
     ]
    }
   ],
   "source": [
    "observed_counts = np.array([\n",
    "    [50, 70],\n",
    "    [80, 100],\n",
    "    [60, 90],\n",
    "    [30, 50],\n",
    "    [20, 50]\n",
    "])\n",
    "\n",
    "expected_counts = np.zeros_like(observed_counts)\n",
    "row_sums = observed_counts.sum(axis=1)\n",
    "col_sums = observed_counts.sum(axis=0)\n",
    "total_sum = observed_counts.sum()\n",
    "\n",
    "for i in range(observed_counts.shape[0]):\n",
    "    for j in range(observed_counts.shape[1]):\n",
    "        expected_counts[i, j] = (row_sums[i] * col_sums[j]) / total_sum\n",
    "\n",
    "chi_square_statistic = np.sum((observed_counts - expected_counts) ** 2 / expected_counts)\n",
    "print(\"Chi-Square Statistic:\", chi_square_statistic)"
   ]
  },
  {
   "cell_type": "markdown",
   "id": "f9a7153e",
   "metadata": {},
   "source": [
    "3-Determine the Critical Value:"
   ]
  },
  {
   "cell_type": "markdown",
   "id": "46fc3efc",
   "metadata": {},
   "source": [
    "To determine the critical value, you need the degrees of freedom and the significance level 𝛼=0.05 α=0.05):\n",
    "Degrees of Freedom (dof): Calculated as \n",
    "(𝑛𝑢𝑚𝑏𝑒𝑟 𝑜𝑓𝑟𝑜𝑤𝑠−1)×(numberofcolumns−1)\n",
    "(numberofrows−1)×(numberofcolumns−1).\n",
    "For our table:\n",
    "dof=(5−1)×(2−1)=4\n",
    "dof=(5−1)×(2−1)=4\n",
    "Critical Value: Use a Chi-Square distribution table or function to find the critical value for \n",
    "𝛼=0.05\n",
    "α=0.05\n",
    "and \n",
    "dof=4\n",
    "dof=4."
   ]
  },
  {
   "cell_type": "code",
   "execution_count": 9,
   "id": "24c94226",
   "metadata": {},
   "outputs": [
    {
     "name": "stdout",
     "output_type": "stream",
     "text": [
      "Critical Value: 9.487729036781154\n"
     ]
    }
   ],
   "source": [
    "alpha = 0.05\n",
    "degrees_of_freedom = (observed_counts.shape[0] - 1) * (observed_counts.shape[1] - 1)\n",
    "critical_value = chi2.ppf(1 - alpha, degrees_of_freedom)\n",
    "print(\"Critical Value:\", critical_value)"
   ]
  },
  {
   "cell_type": "markdown",
   "id": "92557d49",
   "metadata": {},
   "source": [
    "4. Make a Decision"
   ]
  },
  {
   "cell_type": "code",
   "execution_count": 18,
   "id": "06610e74",
   "metadata": {
    "collapsed": true
   },
   "outputs": [
    {
     "name": "stdout",
     "output_type": "stream",
     "text": [
      "Fail to reject the null hypothesis. There is no significant association between the type of smart home device purchased and the customer satisfaction level.\n"
     ]
    }
   ],
   "source": [
    "if chi_square_statistic > critical_value:\n",
    "    print(\"Reject the null hypothesis. There is a significant association between the type of smart home device purchased and the customer satisfaction level.\")\n",
    "else:\n",
    "    print(\"Fail to reject the null hypothesis. There is no significant association between the type of smart home device purchased and the customer satisfaction level.\")"
   ]
  },
  {
   "cell_type": "markdown",
   "id": "6eb40525",
   "metadata": {},
   "source": [
    "Conclusion"
   ]
  },
  {
   "cell_type": "markdown",
   "id": "b47c9c99",
   "metadata": {},
   "source": [
    "Based on the Chi-Square test for independence, we fail to reject the null hypothesis that there is no significant association between the type of smart home device purchased and the customer satisfaction level. The test statistic is 1.5329 and the critical value is 15.5073."
   ]
  }
 ],
 "metadata": {
  "kernelspec": {
   "display_name": "Python 3 (ipykernel)",
   "language": "python",
   "name": "python3"
  },
  "language_info": {
   "codemirror_mode": {
    "name": "ipython",
    "version": 3
   },
   "file_extension": ".py",
   "mimetype": "text/x-python",
   "name": "python",
   "nbconvert_exporter": "python",
   "pygments_lexer": "ipython3",
   "version": "3.9.13"
  }
 },
 "nbformat": 4,
 "nbformat_minor": 5
}
